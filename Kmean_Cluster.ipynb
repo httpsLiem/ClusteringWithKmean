{
 "cells": [
  {
   "cell_type": "markdown",
   "id": "67a86fa9",
   "metadata": {},
   "source": [
    "# Đọc file excel, merge các cột vào 1 bảng chung"
   ]
  },
  {
   "cell_type": "code",
   "execution_count": 8,
   "id": "65b514f6",
   "metadata": {},
   "outputs": [
    {
     "name": "stderr",
     "output_type": "stream",
     "text": [
      "C:\\Users\\DELL\\anaconda3\\lib\\site-packages\\openpyxl\\worksheet\\_read_only.py:79: UserWarning: Unknown extension is not supported and will be removed\n",
      "  for idx, row in parser.parse():\n",
      "C:\\Users\\DELL\\anaconda3\\lib\\site-packages\\openpyxl\\worksheet\\_read_only.py:79: UserWarning: Unknown extension is not supported and will be removed\n",
      "  for idx, row in parser.parse():\n"
     ]
    },
    {
     "data": {
      "text/html": [
       "<div>\n",
       "<style scoped>\n",
       "    .dataframe tbody tr th:only-of-type {\n",
       "        vertical-align: middle;\n",
       "    }\n",
       "\n",
       "    .dataframe tbody tr th {\n",
       "        vertical-align: top;\n",
       "    }\n",
       "\n",
       "    .dataframe thead th {\n",
       "        text-align: right;\n",
       "    }\n",
       "</style>\n",
       "<table border=\"1\" class=\"dataframe\">\n",
       "  <thead>\n",
       "    <tr style=\"text-align: right;\">\n",
       "      <th></th>\n",
       "      <th>ProductID</th>\n",
       "      <th>CustomerRef</th>\n",
       "      <th>SOCreationDate</th>\n",
       "      <th>DispatchQuantityInKg</th>\n",
       "      <th>NetWeightInKg</th>\n",
       "      <th>GrossWeightInKg</th>\n",
       "      <th>ProductName</th>\n",
       "      <th>ShelfLifeInDays</th>\n",
       "      <th>KgPerPallet</th>\n",
       "      <th>Unit</th>\n",
       "      <th>CartonsPerPallet</th>\n",
       "      <th>UnitperCarton</th>\n",
       "      <th>Longitude</th>\n",
       "      <th>Latitude</th>\n",
       "      <th>NumberOfPallet</th>\n",
       "      <th>NumberOfUnit</th>\n",
       "    </tr>\n",
       "  </thead>\n",
       "  <tbody>\n",
       "    <tr>\n",
       "      <th>0</th>\n",
       "      <td>3110685</td>\n",
       "      <td>14019842</td>\n",
       "      <td>2021-08-02</td>\n",
       "      <td>57224.8944</td>\n",
       "      <td>57224.8944</td>\n",
       "      <td>58697.5260</td>\n",
       "      <td>OW MLK WHOLE 6X2L BOT</td>\n",
       "      <td>19</td>\n",
       "      <td>991.68</td>\n",
       "      <td>GBOT</td>\n",
       "      <td>80.0</td>\n",
       "      <td>6</td>\n",
       "      <td>144.763895</td>\n",
       "      <td>-37.831035</td>\n",
       "      <td>57.705</td>\n",
       "      <td>27698.4</td>\n",
       "    </tr>\n",
       "    <tr>\n",
       "      <th>1</th>\n",
       "      <td>3110678</td>\n",
       "      <td>14019842</td>\n",
       "      <td>2021-08-02</td>\n",
       "      <td>77232.0384</td>\n",
       "      <td>77232.0384</td>\n",
       "      <td>79387.7568</td>\n",
       "      <td>OW MLK WHOLE 4x3L BOT</td>\n",
       "      <td>19</td>\n",
       "      <td>991.68</td>\n",
       "      <td>GBOT</td>\n",
       "      <td>80.0</td>\n",
       "      <td>4</td>\n",
       "      <td>144.763895</td>\n",
       "      <td>-37.831035</td>\n",
       "      <td>77.88</td>\n",
       "      <td>24921.6</td>\n",
       "    </tr>\n",
       "    <tr>\n",
       "      <th>2</th>\n",
       "      <td>3103449</td>\n",
       "      <td>14019842</td>\n",
       "      <td>2021-08-02</td>\n",
       "      <td>13387.6800</td>\n",
       "      <td>13387.6800</td>\n",
       "      <td>13732.2000</td>\n",
       "      <td>OW FRMRS OWN MLK FL CRM 6X2L BOT</td>\n",
       "      <td>19</td>\n",
       "      <td>991.68</td>\n",
       "      <td>GBOT</td>\n",
       "      <td>80.0</td>\n",
       "      <td>6</td>\n",
       "      <td>144.763895</td>\n",
       "      <td>-37.831035</td>\n",
       "      <td>13.5</td>\n",
       "      <td>6480.0</td>\n",
       "    </tr>\n",
       "    <tr>\n",
       "      <th>3</th>\n",
       "      <td>3103450</td>\n",
       "      <td>14019842</td>\n",
       "      <td>2021-08-02</td>\n",
       "      <td>2380.0320</td>\n",
       "      <td>2380.0320</td>\n",
       "      <td>2446.4640</td>\n",
       "      <td>OW FRMRS OWN MLK FL CRM 4X3L BOT</td>\n",
       "      <td>19</td>\n",
       "      <td>991.68</td>\n",
       "      <td>GBOT</td>\n",
       "      <td>80.0</td>\n",
       "      <td>4</td>\n",
       "      <td>144.763895</td>\n",
       "      <td>-37.831035</td>\n",
       "      <td>2.4</td>\n",
       "      <td>768.0</td>\n",
       "    </tr>\n",
       "    <tr>\n",
       "      <th>4</th>\n",
       "      <td>3110656</td>\n",
       "      <td>11002626</td>\n",
       "      <td>2021-08-02</td>\n",
       "      <td>7147.0080</td>\n",
       "      <td>7147.0080</td>\n",
       "      <td>7330.7520</td>\n",
       "      <td>OW MLK LITE 6X2L BOT</td>\n",
       "      <td>19</td>\n",
       "      <td>992.64</td>\n",
       "      <td>GBOT</td>\n",
       "      <td>80</td>\n",
       "      <td>6</td>\n",
       "      <td>146.721094</td>\n",
       "      <td>-36.076072</td>\n",
       "      <td>7.2</td>\n",
       "      <td>3456.0</td>\n",
       "    </tr>\n",
       "  </tbody>\n",
       "</table>\n",
       "</div>"
      ],
      "text/plain": [
       "  ProductID  CustomerRef SOCreationDate  DispatchQuantityInKg  NetWeightInKg  \\\n",
       "0   3110685     14019842     2021-08-02            57224.8944     57224.8944   \n",
       "1   3110678     14019842     2021-08-02            77232.0384     77232.0384   \n",
       "2   3103449     14019842     2021-08-02            13387.6800     13387.6800   \n",
       "3   3103450     14019842     2021-08-02             2380.0320      2380.0320   \n",
       "4   3110656     11002626     2021-08-02             7147.0080      7147.0080   \n",
       "\n",
       "   GrossWeightInKg                       ProductName ShelfLifeInDays  \\\n",
       "0       58697.5260             OW MLK WHOLE 6X2L BOT              19   \n",
       "1       79387.7568             OW MLK WHOLE 4x3L BOT              19   \n",
       "2       13732.2000  OW FRMRS OWN MLK FL CRM 6X2L BOT              19   \n",
       "3        2446.4640  OW FRMRS OWN MLK FL CRM 4X3L BOT              19   \n",
       "4        7330.7520              OW MLK LITE 6X2L BOT              19   \n",
       "\n",
       "  KgPerPallet  Unit CartonsPerPallet UnitperCarton   Longitude   Latitude  \\\n",
       "0      991.68  GBOT             80.0             6  144.763895 -37.831035   \n",
       "1      991.68  GBOT             80.0             4  144.763895 -37.831035   \n",
       "2      991.68  GBOT             80.0             6  144.763895 -37.831035   \n",
       "3      991.68  GBOT             80.0             4  144.763895 -37.831035   \n",
       "4      992.64  GBOT               80             6  146.721094 -36.076072   \n",
       "\n",
       "  NumberOfPallet NumberOfUnit  \n",
       "0         57.705      27698.4  \n",
       "1          77.88      24921.6  \n",
       "2           13.5       6480.0  \n",
       "3            2.4        768.0  \n",
       "4            7.2       3456.0  "
      ]
     },
     "execution_count": 8,
     "metadata": {},
     "output_type": "execute_result"
    }
   ],
   "source": [
    "import numpy as np\n",
    "import matplotlib.pyplot as plt\n",
    "import pandas as pd\n",
    "data = pd.read_excel('CuoiKy.xlsm')\n",
    "DataMaster = pd.read_excel('CuoiKy.xlsm', sheet_name = 'Data_Master')\n",
    "CustomerMaster = pd.read_excel('CuoiKy.xlsm', sheet_name = 'Customer_Master')\n",
    "ProductMaster = DataMaster.iloc[0:37, 0:17]\n",
    "ProductMaster = ProductMaster.rename(columns=ProductMaster.iloc[0])\n",
    "ProductMaster = ProductMaster[1:]\n",
    "SalesOrder = pd.read_excel('CuoiKy.xlsm', sheet_name = 'Sales_Order')\n",
    "\n",
    "PackagingMaster = DataMaster.iloc[39:50, 0:5]\n",
    "PackagingMaster = PackagingMaster.rename(columns=PackagingMaster.iloc[0])\n",
    "PackagingMaster = PackagingMaster.fillna(method='ffill')\n",
    "\n",
    "FacilityMaster = DataMaster.iloc[52:59, 0:11]\n",
    "FacilityMaster = FacilityMaster.rename(columns=FacilityMaster.iloc[0])\n",
    "FacilityMaster = FacilityMaster[1:]\n",
    "\n",
    "CollectionPointCapacity = DataMaster.iloc[61:65, 0:6]\n",
    "CollectionPointCapacity = CollectionPointCapacity.rename(columns=CollectionPointCapacity.iloc[0])\n",
    "CollectionPointCapacity = CollectionPointCapacity[1:]\n",
    "CollectionPointCapacity = CollectionPointCapacity.fillna(method='ffill')\n",
    "SalesOrder = SalesOrder.iloc[:, :16]\n",
    "MyData = pd.DataFrame()\n",
    "MyData['ProductID'] = SalesOrder['ProductID']\n",
    "MyData['CustomerRef'] = SalesOrder['CustomerRef']\n",
    "MyData['SOCreationDate'] = SalesOrder['SOCreationDate']\n",
    "MyData['DispatchQuantityInKg'] = SalesOrder['DispatchQuantityInKg']\n",
    "MyData['NetWeightInKg'] = SalesOrder['NetWeightInKg']\n",
    "MyData['GrossWeightInKg'] =SalesOrder['GrossWeightInKg']\n",
    "\n",
    "# Merge the ProductMaster DataFrame with MyData DataFrame based on 'ProductID'\n",
    "MyData = MyData.merge(ProductMaster[['ProductID', 'ProductName', 'ShelfLifeInDays', 'KgPerPallet', 'Unit', 'CartonsPerPallet', 'UnitperCarton']], on='ProductID', how='left')\n",
    "\n",
    "# Merge the CustomerMaster DataFrame with MyData DataFrame based on 'CustomerRef'\n",
    "MyData = MyData.merge(CustomerMaster[['CustomerRef', 'Longitude', 'Latitude']], on='CustomerRef', how='left')\n",
    "#Calculate number of pallet per bill\n",
    "MyData['NumberOfPallet'] = MyData['NetWeightInKg']/ MyData['KgPerPallet']\n",
    "#Calculate number of unit\n",
    "MyData['NumberOfUnit'] = MyData['NumberOfPallet'] * MyData['CartonsPerPallet'] * MyData['UnitperCarton'].astype(float)\n",
    "MyData.head()"
   ]
  },
  {
   "cell_type": "markdown",
   "id": "e8a182db",
   "metadata": {},
   "source": [
    "# Tính tổng pallet cho từng khách hàng"
   ]
  },
  {
   "cell_type": "code",
   "execution_count": 9,
   "id": "009b0a4f",
   "metadata": {},
   "outputs": [
    {
     "data": {
      "text/html": [
       "<div>\n",
       "<style scoped>\n",
       "    .dataframe tbody tr th:only-of-type {\n",
       "        vertical-align: middle;\n",
       "    }\n",
       "\n",
       "    .dataframe tbody tr th {\n",
       "        vertical-align: top;\n",
       "    }\n",
       "\n",
       "    .dataframe thead th {\n",
       "        text-align: right;\n",
       "    }\n",
       "</style>\n",
       "<table border=\"1\" class=\"dataframe\">\n",
       "  <thead>\n",
       "    <tr style=\"text-align: right;\">\n",
       "      <th></th>\n",
       "      <th>CustomerRef</th>\n",
       "      <th>NumberOfPallet</th>\n",
       "    </tr>\n",
       "  </thead>\n",
       "  <tbody>\n",
       "    <tr>\n",
       "      <th>0</th>\n",
       "      <td>11000128</td>\n",
       "      <td>92.99</td>\n",
       "    </tr>\n",
       "    <tr>\n",
       "      <th>1</th>\n",
       "      <td>11000144</td>\n",
       "      <td>7.470929</td>\n",
       "    </tr>\n",
       "    <tr>\n",
       "      <th>2</th>\n",
       "      <td>11000149</td>\n",
       "      <td>6.678</td>\n",
       "    </tr>\n",
       "    <tr>\n",
       "      <th>3</th>\n",
       "      <td>11000159</td>\n",
       "      <td>0.342</td>\n",
       "    </tr>\n",
       "    <tr>\n",
       "      <th>4</th>\n",
       "      <td>11000176</td>\n",
       "      <td>3.466706</td>\n",
       "    </tr>\n",
       "  </tbody>\n",
       "</table>\n",
       "</div>"
      ],
      "text/plain": [
       "   CustomerRef NumberOfPallet\n",
       "0     11000128          92.99\n",
       "1     11000144       7.470929\n",
       "2     11000149          6.678\n",
       "3     11000159          0.342\n",
       "4     11000176       3.466706"
      ]
     },
     "execution_count": 9,
     "metadata": {},
     "output_type": "execute_result"
    }
   ],
   "source": [
    "CalculateProductGrouped = MyData.groupby('CustomerRef')\n",
    "PalletPerCustomerRef = CalculateProductGrouped['NumberOfPallet'].sum()\n",
    "PalletPerCustomerRef = PalletPerCustomerRef.reset_index()\n",
    "PalletPerCustomerRef.head()"
   ]
  },
  {
   "cell_type": "markdown",
   "id": "aeaf0d4b",
   "metadata": {},
   "source": [
    "# Tính khoảng cách từ DC (distribution center) tới từng khách hàng"
   ]
  },
  {
   "cell_type": "code",
   "execution_count": 10,
   "id": "38b54946",
   "metadata": {},
   "outputs": [
    {
     "data": {
      "text/html": [
       "<div>\n",
       "<style scoped>\n",
       "    .dataframe tbody tr th:only-of-type {\n",
       "        vertical-align: middle;\n",
       "    }\n",
       "\n",
       "    .dataframe tbody tr th {\n",
       "        vertical-align: top;\n",
       "    }\n",
       "\n",
       "    .dataframe thead th {\n",
       "        text-align: right;\n",
       "    }\n",
       "</style>\n",
       "<table border=\"1\" class=\"dataframe\">\n",
       "  <thead>\n",
       "    <tr style=\"text-align: right;\">\n",
       "      <th></th>\n",
       "      <th>CustomerRef</th>\n",
       "      <th>NumberOfPallet</th>\n",
       "      <th>Longitude</th>\n",
       "      <th>Latitude</th>\n",
       "      <th>DistanceToDC</th>\n",
       "    </tr>\n",
       "  </thead>\n",
       "  <tbody>\n",
       "    <tr>\n",
       "      <th>0</th>\n",
       "      <td>11000128</td>\n",
       "      <td>92.99</td>\n",
       "      <td>145.206237</td>\n",
       "      <td>-38.025962</td>\n",
       "      <td>0.488578</td>\n",
       "    </tr>\n",
       "    <tr>\n",
       "      <th>1</th>\n",
       "      <td>11000144</td>\n",
       "      <td>7.470929</td>\n",
       "      <td>144.947676</td>\n",
       "      <td>-37.728991</td>\n",
       "      <td>0.192579</td>\n",
       "    </tr>\n",
       "    <tr>\n",
       "      <th>2</th>\n",
       "      <td>11000149</td>\n",
       "      <td>6.678</td>\n",
       "      <td>152.519049</td>\n",
       "      <td>-32.197687</td>\n",
       "      <td>9.564369</td>\n",
       "    </tr>\n",
       "    <tr>\n",
       "      <th>3</th>\n",
       "      <td>11000159</td>\n",
       "      <td>0.342</td>\n",
       "      <td>153.122555</td>\n",
       "      <td>-27.617230</td>\n",
       "      <td>13.173460</td>\n",
       "    </tr>\n",
       "    <tr>\n",
       "      <th>4</th>\n",
       "      <td>11000176</td>\n",
       "      <td>3.466706</td>\n",
       "      <td>145.197119</td>\n",
       "      <td>-37.990926</td>\n",
       "      <td>0.465374</td>\n",
       "    </tr>\n",
       "  </tbody>\n",
       "</table>\n",
       "</div>"
      ],
      "text/plain": [
       "   CustomerRef NumberOfPallet   Longitude   Latitude  DistanceToDC\n",
       "0     11000128          92.99  145.206237 -38.025962      0.488578\n",
       "1     11000144       7.470929  144.947676 -37.728991      0.192579\n",
       "2     11000149          6.678  152.519049 -32.197687      9.564369\n",
       "3     11000159          0.342  153.122555 -27.617230     13.173460\n",
       "4     11000176       3.466706  145.197119 -37.990926      0.465374"
      ]
     },
     "execution_count": 10,
     "metadata": {},
     "output_type": "execute_result"
    }
   ],
   "source": [
    "PalletPerCustomerRef = PalletPerCustomerRef.merge(CustomerMaster[['CustomerRef', 'Longitude', 'Latitude']],\n",
    "                                                  on='CustomerRef', how='left')\n",
    "DC_facilities = FacilityMaster[FacilityMaster['Type'] == 'DC']\n",
    "DC_Longitude = DC_facilities['Longitude'].mean()\n",
    "DC_Latitude = DC_facilities['Latitude'].mean()\n",
    "import math\n",
    "PalletPerCustomerRef['DistanceToDC'] = (PalletPerCustomerRef['Latitude'] - DC_Latitude)**2 + (PalletPerCustomerRef['Longitude'] - DC_Longitude)**2\n",
    "PalletPerCustomerRef['DistanceToDC'] = PalletPerCustomerRef['DistanceToDC'].apply(lambda x: math.sqrt(x))\n",
    "PalletPerCustomerRef.head()"
   ]
  },
  {
   "cell_type": "markdown",
   "id": "1a2cc76b",
   "metadata": {},
   "source": [
    "# Tiến hành phân cụm"
   ]
  },
  {
   "cell_type": "code",
   "execution_count": 115,
   "id": "b6598af8",
   "metadata": {},
   "outputs": [
    {
     "name": "stderr",
     "output_type": "stream",
     "text": [
      "C:\\Users\\DELL\\anaconda3\\lib\\site-packages\\sklearn\\cluster\\_kmeans.py:870: FutureWarning: The default value of `n_init` will change from 10 to 'auto' in 1.4. Set the value of `n_init` explicitly to suppress the warning\n",
      "  warnings.warn(\n",
      "C:\\Users\\DELL\\anaconda3\\lib\\site-packages\\sklearn\\cluster\\_kmeans.py:1382: UserWarning: KMeans is known to have a memory leak on Windows with MKL, when there are less chunks than available threads. You can avoid it by setting the environment variable OMP_NUM_THREADS=2.\n",
      "  warnings.warn(\n",
      "C:\\Users\\DELL\\AppData\\Local\\Temp\\ipykernel_12396\\701393256.py:24: MatplotlibDeprecationWarning: The get_cmap function was deprecated in Matplotlib 3.7 and will be removed two minor releases later. Use ``matplotlib.colormaps[name]`` or ``matplotlib.colormaps.get_cmap(obj)`` instead.\n",
      "  color_map = plt.cm.get_cmap('Set1', len(np.unique(labels)))\n"
     ]
    },
    {
     "data": {
      "image/png": "[encoded data removed]",
      "text/plain": [
       "<Figure size 640x480 with 1 Axes>"
      ]
     },
     "metadata": {},
     "output_type": "display_data"
    }
   ],
   "source": [
    "from sklearn.preprocessing import MinMaxScaler\n",
    "# Các cột xác định cần chuẩn hóa\n",
    "columns_to_normalize = ['Latitude', 'Longitude', 'DistanceToDC', 'NumberOfPallet']\n",
    "scaler = MinMaxScaler()\n",
    "df_normalized = PalletPerCustomerRef.copy()\n",
    "df_normalized[columns_to_normalize] = scaler.fit_transform(PalletPerCustomerRef[columns_to_normalize])\n",
    "\n",
    "from sklearn.cluster import KMeans\n",
    "# Dữ liệu vĩ độ và kinh độ\n",
    "Longitude = df_normalized['Longitude']\n",
    "Latitude = df_normalized['Latitude']\n",
    "NumberOfPallet = df_normalized['NumberOfPallet']\n",
    "DistanceToDC = df_normalized['DistanceToDC']\n",
    "# Ghép hai features thành một mảng 2D\n",
    "data = np.column_stack((Latitude, Longitude, DistanceToDC, NumberOfPallet))\n",
    "\n",
    "# Áp dụng KMeans với số lượng cụm mong muốn\n",
    "kmeans = KMeans(n_clusters=5)\n",
    "kmeans.fit(data)\n",
    "# Lấy nhãn của các điểm dữ liệu\n",
    "labels = kmeans.labels_\n",
    "\n",
    "# Tạo bảng màu cho các nhãn\n",
    "color_map = plt.cm.get_cmap('Set1', len(np.unique(labels)))\n",
    "\n",
    "# Vẽ biểu đồ\n",
    "# Lấy giá trị trung tâm của từng cụm\n",
    "cluster_centers = kmeans.cluster_centers_\n",
    "# Vẽ biểu đồ các trung tâm cụm\n",
    "plt.scatter(data[:, 1], data[:, 0], c=labels, cmap=color_map)\n",
    "plt.xlabel('Longitude')\n",
    "plt.ylabel('Latitude')\n",
    "plt.title('K-means Clustering in latitude, longitude, numberofpallet and distance_to_DC')\n",
    "plt.show()"
   ]
  },
  {
   "cell_type": "markdown",
   "id": "294e4d30",
   "metadata": {},
   "source": [
    "#  Tính toán chi phí, dung tích cho từng cụm"
   ]
  },
  {
   "cell_type": "code",
   "execution_count": 12,
   "id": "89ee236a",
   "metadata": {},
   "outputs": [
    {
     "data": {
      "text/html": [
       "<div>\n",
       "<style scoped>\n",
       "    .dataframe tbody tr th:only-of-type {\n",
       "        vertical-align: middle;\n",
       "    }\n",
       "\n",
       "    .dataframe tbody tr th {\n",
       "        vertical-align: top;\n",
       "    }\n",
       "\n",
       "    .dataframe thead th {\n",
       "        text-align: right;\n",
       "    }\n",
       "</style>\n",
       "<table border=\"1\" class=\"dataframe\">\n",
       "  <thead>\n",
       "    <tr style=\"text-align: right;\">\n",
       "      <th></th>\n",
       "      <th>Cluster</th>\n",
       "      <th>SOCreationDate</th>\n",
       "      <th>NumberOfPallet</th>\n",
       "      <th>Week</th>\n",
       "      <th>NumberOfPalletReturned</th>\n",
       "    </tr>\n",
       "  </thead>\n",
       "  <tbody>\n",
       "    <tr>\n",
       "      <th>0</th>\n",
       "      <td>0</td>\n",
       "      <td>2022-01-04</td>\n",
       "      <td>20.477353</td>\n",
       "      <td>1</td>\n",
       "      <td>10.238677</td>\n",
       "    </tr>\n",
       "    <tr>\n",
       "      <th>1</th>\n",
       "      <td>0</td>\n",
       "      <td>2022-01-05</td>\n",
       "      <td>4.9815</td>\n",
       "      <td>1</td>\n",
       "      <td>2.49075</td>\n",
       "    </tr>\n",
       "    <tr>\n",
       "      <th>2</th>\n",
       "      <td>0</td>\n",
       "      <td>2022-01-06</td>\n",
       "      <td>3.594286</td>\n",
       "      <td>1</td>\n",
       "      <td>1.797143</td>\n",
       "    </tr>\n",
       "    <tr>\n",
       "      <th>3</th>\n",
       "      <td>0</td>\n",
       "      <td>2022-01-07</td>\n",
       "      <td>15.195</td>\n",
       "      <td>1</td>\n",
       "      <td>7.5975</td>\n",
       "    </tr>\n",
       "    <tr>\n",
       "      <th>4</th>\n",
       "      <td>0</td>\n",
       "      <td>2022-01-08</td>\n",
       "      <td>0.72</td>\n",
       "      <td>1</td>\n",
       "      <td>0.36</td>\n",
       "    </tr>\n",
       "  </tbody>\n",
       "</table>\n",
       "</div>"
      ],
      "text/plain": [
       "   Cluster SOCreationDate NumberOfPallet  Week NumberOfPalletReturned\n",
       "0        0     2022-01-04      20.477353     1              10.238677\n",
       "1        0     2022-01-05         4.9815     1                2.49075\n",
       "2        0     2022-01-06       3.594286     1               1.797143\n",
       "3        0     2022-01-07         15.195     1                 7.5975\n",
       "4        0     2022-01-08           0.72     1                   0.36"
      ]
     },
     "execution_count": 12,
     "metadata": {},
     "output_type": "execute_result"
    }
   ],
   "source": [
    "PalletPerCustomerRef['Cluster'] = labels\n",
    "MyData = MyData.merge(PalletPerCustomerRef[['CustomerRef', 'Cluster']], on='CustomerRef', how='left')\n",
    "dfCapacity = MyData.loc[:, ['SOCreationDate', 'NumberOfPallet', 'Cluster']]\n",
    "# Gom nhóm theo cụm và theo các tuần\n",
    "CapacityGrouped = dfCapacity.groupby(['Cluster', 'SOCreationDate'])\n",
    "dfCapacityGrouped = CapacityGrouped['NumberOfPallet'].sum().reset_index()\n",
    "dfCapacityGrouped = dfCapacityGrouped[dfCapacityGrouped['SOCreationDate'].dt.year == 2022].reset_index(drop=True)\n",
    "dfCapacityGrouped['Week'] = dfCapacityGrouped['SOCreationDate'].dt.isocalendar().week\n",
    "dfCapacityGrouped['NumberOfPalletReturned'] = dfCapacityGrouped['NumberOfPallet'] / 2\n",
    "\n",
    "dfCapacityGrouped.head()"
   ]
  },
  {
   "cell_type": "markdown",
   "id": "ccefd457",
   "metadata": {},
   "source": [
    "## Tạo dataframe cho từng cụm"
   ]
  },
  {
   "cell_type": "code",
   "execution_count": 14,
   "id": "bd60194b",
   "metadata": {},
   "outputs": [],
   "source": [
    "cluster_data = {}\n",
    "\n",
    "for cluster in dfCapacityGrouped['Cluster'].unique():\n",
    "    cluster_data[cluster] = dfCapacityGrouped[dfCapacityGrouped['Cluster'] == cluster].reset_index()"
   ]
  },
  {
   "cell_type": "markdown",
   "id": "8c5115f9",
   "metadata": {},
   "source": [
    "## Hàm tính chi phí"
   ]
  },
  {
   "cell_type": "code",
   "execution_count": 13,
   "id": "c60489df",
   "metadata": {},
   "outputs": [],
   "source": [
    "def costOverFlowPerWeek(numberOfWeek, Size, df):\n",
    "    size = Size\n",
    "    sumPallet = 0\n",
    "    dateOverflow = 0\n",
    "    totalCostOverFlowPerWeek = 0\n",
    "    initOverflow = 0\n",
    "    for i in range(df.shape[0]):\n",
    "        if df['Week'][i] == numberOfWeek:\n",
    "            if sumPallet < size:\n",
    "                sumPallet += df['NumberOfPalletReturned'][i]\n",
    "                if sumPallet > size:\n",
    "                    dateOverflow = (df['SOCreationDate'][i].weekday() + 1)\n",
    "                    initOverflow = (sumPallet - size) * 3\n",
    "                    sumPallet = size\n",
    "            else:\n",
    "                sumPallet += df['NumberOfPalletReturned'][i]\n",
    "    if sumPallet - size > 0:\n",
    "        totalCostOverFlowPerWeek = initOverflow + (sumPallet - size) * 3 * (7 - dateOverflow)\n",
    "        return totalCostOverFlowPerWeek\n",
    "    else:\n",
    "        return 0\n",
    "\n",
    "def costOverflow(df, Size):\n",
    "    cost = 0\n",
    "    for week in range(1, 53):\n",
    "        cost += costOverFlowPerWeek(week, Size, df)\n",
    "    return cost   \n",
    "\n",
    "def totalCost(df, Size):\n",
    "    return Size * 100 + costOverflow(df, Size)"
   ]
  },
  {
   "cell_type": "markdown",
   "id": "832ee9f1",
   "metadata": {},
   "source": [
    "## Xác định size từng cụm sao cho tổng chi phí (hằng năm và overflow) là thấp nhất"
   ]
  },
  {
   "cell_type": "code",
   "execution_count": 15,
   "id": "f5143552",
   "metadata": {},
   "outputs": [
    {
     "data": {
      "text/plain": [
       "[40, 20, 29, 50, 3]"
      ]
     },
     "execution_count": 15,
     "metadata": {},
     "output_type": "execute_result"
    }
   ],
   "source": [
    "sizeCluster = []\n",
    "for cluster in range(5):\n",
    "    costList = []\n",
    "    sizeList = list(range(1, 51, 1))\n",
    "    for size in sizeList:\n",
    "        costList.append(totalCost(cluster_data[cluster], size))\n",
    "    sizeCluster.append(sizeList[costList.index(min(costList))])\n",
    "sizeCluster"
   ]
  },
  {
   "cell_type": "code",
   "execution_count": 16,
   "id": "219c5fe1",
   "metadata": {},
   "outputs": [],
   "source": [
    "costList = []\n",
    "sizeList = list(range(1000, 1501, 10))\n",
    "for size in sizeList:\n",
    "    costList.append(totalCost(cluster_data[3], size))\n",
    "sizeCluster.append(sizeList[costList.index(min(costList))])"
   ]
  },
  {
   "cell_type": "code",
   "execution_count": 18,
   "id": "5094640e",
   "metadata": {},
   "outputs": [],
   "source": [
    "sizeCluster = [40, 20, 29, 1330, 3]"
   ]
  },
  {
   "cell_type": "markdown",
   "id": "3b862918",
   "metadata": {},
   "source": [
    "Chọn size 70 (small) cho các cụm 0, 1, 2 và 4. \n",
    "\n",
    "Chọn 6 điểm thu gom size small và 4 điểm thu gom size medium cho cụm 3"
   ]
  },
  {
   "cell_type": "code",
   "execution_count": 116,
   "id": "13d59a91",
   "metadata": {},
   "outputs": [
    {
     "name": "stdout",
     "output_type": "stream",
     "text": [
      "Total cost:\n",
      "Cluster 0: 7000\n",
      "Cluster 1: 7000\n",
      "Cluster 2: 7000\n",
      "Cluster 3: 142211.41162977455\n",
      "Cluster 4: 7000\n",
      "Total: 170211.41162977455\n"
     ]
    }
   ],
   "source": [
    "print(\"Total cost:\")\n",
    "print(\"Cluster 0:\", totalCost(cluster_data[0], 70))\n",
    "print(\"Cluster 1:\", totalCost(cluster_data[1], 70))\n",
    "print(\"Cluster 2:\", totalCost(cluster_data[2], 70))\n",
    "print(\"Cluster 3:\", totalCost(cluster_data[3], 1340))\n",
    "print(\"Cluster 4:\", totalCost(cluster_data[4], 70))\n",
    "print(\"Total:\", totalCost(cluster_data[0], 70) + totalCost(cluster_data[1], 70) + totalCost(cluster_data[2], 70) + totalCost(cluster_data[4], 70) + totalCost(cluster_data[3], 1340))"
   ]
  },
  {
   "cell_type": "markdown",
   "id": "6674cdb8",
   "metadata": {},
   "source": [
    "# GHG"
   ]
  },
  {
   "cell_type": "code",
   "execution_count": 99,
   "id": "1b80bdd1",
   "metadata": {},
   "outputs": [
    {
     "data": {
      "text/plain": [
       "181471.7713283413"
      ]
     },
     "execution_count": 99,
     "metadata": {},
     "output_type": "execute_result"
    }
   ],
   "source": [
    "MyData['PackagingWeightInKg'] = MyData['GrossWeightInKg'] - MyData['NetWeightInKg']\n",
    "MyData = MyData[MyData['SOCreationDate'].dt.year == 2022].reset_index(drop=True)\n",
    "PackageGrouped = MyData.groupby('Unit')\n",
    "dfPackageGrouped =PackageGrouped['PackagingWeightInKg'].sum()\n",
    "dfPackageGrouped = dfPackageGrouped.reset_index()\n",
    "dfPackageGrouped['PackagingWeightReturned'] = dfPackageGrouped['PackagingWeightInKg']/2\n",
    "CircularInflow = []\n",
    "value = 0.0\n",
    "while value < 1.01:\n",
    "    CircularInflow.append(value)\n",
    "    value += 0.01\n",
    "CircularInflow = [round(value, 2) for value in CircularInflow]\n",
    "CO2_cause_by_collection_point = MyData['NumberOfPallet'].sum()/2 * 2.4 * 0.371 /365 * 1000\n",
    "CO2_cause_by_collection_point\n"
   ]
  },
  {
   "cell_type": "markdown",
   "id": "fec0b04e",
   "metadata": {},
   "source": [
    "## Tổng khí thải 2022 nếu chưa thực hiện tái chế"
   ]
  },
  {
   "cell_type": "code",
   "execution_count": 101,
   "id": "3504294f",
   "metadata": {},
   "outputs": [
    {
     "data": {
      "text/plain": [
       "5747287.670759997"
      ]
     },
     "execution_count": 101,
     "metadata": {},
     "output_type": "execute_result"
    }
   ],
   "source": [
    "CO2= dfPackageGrouped.iloc[0, 1]*0.7 + dfPackageGrouped.iloc[1, 1]*1.2 + dfPackageGrouped.iloc[2, 1] * 3.1\n",
    "CO2"
   ]
  },
  {
   "cell_type": "markdown",
   "id": "ad520b6e",
   "metadata": {},
   "source": [
    "## Tổng khí thải 2022 nếu được thực hiện tái chế"
   ]
  },
  {
   "cell_type": "code",
   "execution_count": 102,
   "id": "d85e8bef",
   "metadata": {},
   "outputs": [
    {
     "data": {
      "text/plain": [
       "<matplotlib.legend.Legend at 0x21fbed4fdf0>"
      ]
     },
     "execution_count": 102,
     "metadata": {},
     "output_type": "execute_result"
    },
    {
     "data": {
      "image/png": "[encoded data removed]",
      "text/plain": [
       "<Figure size 640x480 with 1 Axes>"
      ]
     },
     "metadata": {},
     "output_type": "display_data"
    }
   ],
   "source": [
    "CO2_Cause_By_Reduced_Material = []\n",
    "CO2_Cause_By_Virgin_Material = []\n",
    "for inflow in CircularInflow:\n",
    "    result1 = dfPackageGrouped.iloc[0, 2] * inflow * 0.57 + dfPackageGrouped.iloc[1, 2] * inflow * 0.55 + dfPackageGrouped.iloc[2, 2] * inflow * 1.7\n",
    "    result2 = (dfPackageGrouped.iloc[0, 1] - dfPackageGrouped.iloc[0, 2] * inflow) * 0.7 + (dfPackageGrouped.iloc[1, 1] - dfPackageGrouped.iloc[1, 2] * inflow) * 1.2 + (dfPackageGrouped.iloc[2, 1] - dfPackageGrouped.iloc[2, 2] * inflow)*3.1\n",
    "    CO2_Cause_By_Reduced_Material.append(result1)\n",
    "    CO2_Cause_By_Virgin_Material.append(result2)\n",
    "total_CO2 = []\n",
    "for i in range(len(CO2_Cause_By_Reduced_Material)):\n",
    "    total_CO2.append(CO2_Cause_By_Reduced_Material[i] + CO2_Cause_By_Virgin_Material[i] + CO2_cause_by_collection_point)\n",
    "\n",
    "# biểu đồ\n",
    "plt.ylabel('CO2')\n",
    "plt.xlabel('%circluar inflow')\n",
    "plt.title('CO2 effection with percentage of circular inflow')\n",
    "# Tạo dữ liệu điểm trên đường ngang\n",
    "x = np.linspace(0, 1, 100)\n",
    "y = np.ones_like(x) * CO2\n",
    "\n",
    "# Vẽ đường ngang\n",
    "plt.plot(x, y, label='CO2 năm 2022')\n",
    "plt.plot(CircularInflow, total_CO2, label = 'CO2 có áp dụng tái chế')\n",
    "# Chú thích cho đường ngang\n",
    "plt.legend()"
   ]
  },
  {
   "cell_type": "markdown",
   "id": "b3216143",
   "metadata": {},
   "source": [
    "Dựa vào biểu đồ --> đề xuất % circular inflow là 100%"
   ]
  },
  {
   "cell_type": "code",
   "execution_count": 104,
   "id": "39de1210",
   "metadata": {},
   "outputs": [
    {
     "name": "stdout",
     "output_type": "stream",
     "text": [
      "GHG saved:  1255182.3958716579\n"
     ]
    }
   ],
   "source": [
    "print(\"GHG saved: \", CO2 - total_CO2[100])"
   ]
  },
  {
   "cell_type": "markdown",
   "id": "4bd6278e",
   "metadata": {},
   "source": [
    "# Tổng số bao bì được tái sử dụng"
   ]
  },
  {
   "cell_type": "code",
   "execution_count": 33,
   "id": "50d87c6a",
   "metadata": {},
   "outputs": [
    {
     "name": "stdout",
     "output_type": "stream",
     "text": [
      "Total CTN recycled:  515604.6479999996\n",
      "Total GBOT recycled:  3458379.0431999983\n",
      "Total PBOT recycled:  398809.5372000001\n"
     ]
    }
   ],
   "source": [
    "print(\"Total CTN recycled: \", dfPackageGrouped.iloc[0, 1])\n",
    "print(\"Total GBOT recycled: \", dfPackageGrouped.iloc[1, 1])\n",
    "print(\"Total PBOT recycled: \", dfPackageGrouped.iloc[2, 1])"
   ]
  },
  {
   "cell_type": "markdown",
   "id": "c9ac735f",
   "metadata": {},
   "source": [
    "Hết"
   ]
  },
  {
   "cell_type": "markdown",
   "id": "5b08cc5d",
   "metadata": {},
   "source": [
    "# Cải thiện cách phân cụm"
   ]
  },
  {
   "cell_type": "markdown",
   "id": "809a606c",
   "metadata": {},
   "source": [
    "# Thực hiện gộp các cụm nhỏ để giảm chi phí thuê hằng năm"
   ]
  },
  {
   "cell_type": "code",
   "execution_count": 35,
   "id": "56243e84",
   "metadata": {},
   "outputs": [
    {
     "data": {
      "image/png": "[encoded data removed]",
      "text/plain": [
       "<Figure size 640x480 with 1 Axes>"
      ]
     },
     "metadata": {},
     "output_type": "display_data"
    }
   ],
   "source": [
    "restored_data = scaler.inverse_transform(cluster_centers)\n",
    "restored_data\n",
    "# Cụm 0\n",
    "Longitude_0 = PalletPerCustomerRef[PalletPerCustomerRef['Cluster'] == 0]['Longitude']\n",
    "Latitude_0 = PalletPerCustomerRef[PalletPerCustomerRef['Cluster'] == 0]['Latitude']\n",
    "plt.scatter(Longitude_0, Latitude_0, s=20, c='red', label='Cluster 0')\n",
    "\n",
    "# Cụm 1\n",
    "Longitude_1 = PalletPerCustomerRef[PalletPerCustomerRef['Cluster'] == 1]['Longitude']\n",
    "Latitude_1 = PalletPerCustomerRef[PalletPerCustomerRef['Cluster'] == 1]['Latitude']\n",
    "plt.scatter(Longitude_1, Latitude_1, s=20, c='blue', label='Cluster 1')\n",
    "\n",
    "# Cụm 2\n",
    "Longitude_2 = PalletPerCustomerRef[PalletPerCustomerRef['Cluster'] == 2]['Longitude']\n",
    "Latitude_2 = PalletPerCustomerRef[PalletPerCustomerRef['Cluster'] == 2]['Latitude']\n",
    "plt.scatter(Longitude_2, Latitude_2, s=20, c='green', label='Cluster 2')\n",
    "\n",
    "# Cụm 3\n",
    "Longitude_3 = PalletPerCustomerRef[PalletPerCustomerRef['Cluster'] == 3]['Longitude']\n",
    "Latitude_3 = PalletPerCustomerRef[PalletPerCustomerRef['Cluster'] == 3]['Latitude']\n",
    "plt.scatter(Longitude_3, Latitude_3, s=20, c='orange', label='Cluster 3')\n",
    "\n",
    "# Cụm 4\n",
    "Longitude_4 = PalletPerCustomerRef[PalletPerCustomerRef['Cluster'] == 4]['Longitude']\n",
    "Latitude_4 = PalletPerCustomerRef[PalletPerCustomerRef['Cluster'] == 4]['Latitude']\n",
    "plt.scatter(Longitude_4, Latitude_4, s=20, c='black', label='Cluster 4')\n",
    "# Đặt giới hạn cho trục x và y\n",
    "plt.xlim(CustomerMaster['Longitude'].min() - 3, CustomerMaster['Longitude'].max()+ 3) \n",
    "plt.ylim(CustomerMaster['Latitude'].min() - 6, CustomerMaster['Latitude'].max()+ 3) \n",
    "plt.scatter(restored_data[:, 1], restored_data[:, 0], s=sizeCluster, marker='*', color='purple')\n",
    "\n",
    "# Đặt tiêu đề và chú thích\n",
    "plt.title('Clusters of Customers')\n",
    "plt.xlabel('Longitude')\n",
    "plt.ylabel('Latitude')\n",
    "plt.legend()\n",
    "\n",
    "# Hiển thị biểu đồ chung\n",
    "plt.show()"
   ]
  },
  {
   "cell_type": "code",
   "execution_count": 36,
   "id": "69a25e19",
   "metadata": {},
   "outputs": [],
   "source": [
    "cluster_0_and_2 = PalletPerCustomerRef[(PalletPerCustomerRef['Cluster'] == 0) | (PalletPerCustomerRef['Cluster'] == 2)]\n",
    "cluster_1_and_4 = PalletPerCustomerRef[(PalletPerCustomerRef['Cluster'] == 1) | (PalletPerCustomerRef['Cluster'] == 4)]"
   ]
  },
  {
   "cell_type": "markdown",
   "id": "92fea216",
   "metadata": {},
   "source": [
    "## Xác định lại vị trí đặt điểm thu gom"
   ]
  },
  {
   "cell_type": "code",
   "execution_count": 38,
   "id": "90ef692c",
   "metadata": {},
   "outputs": [
    {
     "name": "stderr",
     "output_type": "stream",
     "text": [
      "C:\\Users\\DELL\\anaconda3\\lib\\site-packages\\sklearn\\cluster\\_kmeans.py:870: FutureWarning: The default value of `n_init` will change from 10 to 'auto' in 1.4. Set the value of `n_init` explicitly to suppress the warning\n",
      "  warnings.warn(\n",
      "C:\\Users\\DELL\\anaconda3\\lib\\site-packages\\sklearn\\cluster\\_kmeans.py:1382: UserWarning: KMeans is known to have a memory leak on Windows with MKL, when there are less chunks than available threads. You can avoid it by setting the environment variable OMP_NUM_THREADS=1.\n",
      "  warnings.warn(\n"
     ]
    }
   ],
   "source": [
    "# Các cột xác định cần chuẩn hóa\n",
    "columns_to_normalize = ['DistanceToDC', 'NumberOfPallet']\n",
    "scaler = MinMaxScaler()\n",
    "df_normalized_cluster_0_and_2 = cluster_0_and_2.copy()\n",
    "df_normalized_cluster_0_and_2[columns_to_normalize] = scaler.fit_transform(cluster_0_and_2[columns_to_normalize])\n",
    "df_normalized_cluster_1_and_4 = cluster_1_and_4.copy()\n",
    "df_normalized_cluster_1_and_4[columns_to_normalize] = scaler.fit_transform(cluster_1_and_4[columns_to_normalize])\n",
    "# Dữ liệu vĩ độ và kinh độ\n",
    "Longitude = df_normalized_cluster_0_and_2['Longitude']\n",
    "Latitude = df_normalized_cluster_0_and_2['Latitude']\n",
    "NumberOfPallet = df_normalized_cluster_0_and_2['NumberOfPallet']\n",
    "DistanceToDC = df_normalized_cluster_0_and_2['DistanceToDC']\n",
    "# Ghép hai features thành một mảng 2D\n",
    "data = np.column_stack((Latitude, Longitude, NumberOfPallet, DistanceToDC))\n",
    "\n",
    "# Áp dụng KMeans với số lượng cụm mong muốn\n",
    "kmeans = KMeans(n_clusters=1)\n",
    "kmeans.fit(data)\n",
    "# Lấy giá trị trung tâm của từng cụm\n",
    "cluster_centers = kmeans.cluster_centers_\n",
    "longitude_cluster_0_and_2_center = cluster_centers[0 ,1]\n",
    "latitude_cluster_0_and_2_center = cluster_centers[0, 0]"
   ]
  },
  {
   "cell_type": "code",
   "execution_count": 39,
   "id": "5d4b4202",
   "metadata": {},
   "outputs": [
    {
     "name": "stderr",
     "output_type": "stream",
     "text": [
      "C:\\Users\\DELL\\anaconda3\\lib\\site-packages\\sklearn\\cluster\\_kmeans.py:870: FutureWarning: The default value of `n_init` will change from 10 to 'auto' in 1.4. Set the value of `n_init` explicitly to suppress the warning\n",
      "  warnings.warn(\n",
      "C:\\Users\\DELL\\anaconda3\\lib\\site-packages\\sklearn\\cluster\\_kmeans.py:1382: UserWarning: KMeans is known to have a memory leak on Windows with MKL, when there are less chunks than available threads. You can avoid it by setting the environment variable OMP_NUM_THREADS=1.\n",
      "  warnings.warn(\n"
     ]
    }
   ],
   "source": [
    "# Dữ liệu vĩ độ và kinh độ\n",
    "Longitude = df_normalized_cluster_1_and_4['Longitude']\n",
    "Latitude = df_normalized_cluster_1_and_4['Latitude']\n",
    "NumberOfPallet = df_normalized_cluster_1_and_4['NumberOfPallet']\n",
    "DistanceToDC = df_normalized_cluster_1_and_4['DistanceToDC']\n",
    "# Ghép hai features thành một mảng 2D\n",
    "data = np.column_stack((Latitude, Longitude, NumberOfPallet, DistanceToDC))\n",
    "\n",
    "# Áp dụng KMeans với số lượng cụm mong muốn\n",
    "kmeans = KMeans(n_clusters=1)\n",
    "kmeans.fit(data)\n",
    "# Lấy giá trị trung tâm của từng cụm\n",
    "cluster_centers = kmeans.cluster_centers_\n",
    "longitude_cluster_1_and_4_center = cluster_centers[0 ,1]\n",
    "latitude_cluster_1_and_4_center = cluster_centers[0, 0]"
   ]
  },
  {
   "cell_type": "code",
   "execution_count": 122,
   "id": "b0ecb591",
   "metadata": {},
   "outputs": [
    {
     "data": {
      "image/png": "[encoded data removed]",
      "text/plain": [
       "<Figure size 640x480 with 1 Axes>"
      ]
     },
     "metadata": {},
     "output_type": "display_data"
    }
   ],
   "source": [
    "# Cụm 1 và cụm 4\n",
    "Longitude_0 = PalletPerCustomerRef[(PalletPerCustomerRef['Cluster'] == 1) | (PalletPerCustomerRef['Cluster'] == 4)]['Longitude']\n",
    "Latitude_0 = PalletPerCustomerRef[(PalletPerCustomerRef['Cluster'] == 1) | (PalletPerCustomerRef['Cluster'] == 4)]['Latitude']\n",
    "plt.scatter(Longitude_0, Latitude_0, s=20, c='blue', label='Cluster 0')\n",
    "\n",
    "# Cụm 0 và cụm 2\n",
    "Longitude_1 = PalletPerCustomerRef[(PalletPerCustomerRef['Cluster'] == 0) | (PalletPerCustomerRef['Cluster'] == 2)]['Longitude']\n",
    "Latitude_1 = PalletPerCustomerRef[(PalletPerCustomerRef['Cluster'] == 0) | (PalletPerCustomerRef['Cluster'] == 2)]['Latitude']\n",
    "plt.scatter(Longitude_1, Latitude_1, s=20, c='red', label='Cluster 1')\n",
    "\n",
    "# Cụm 3\n",
    "Longitude_3 = PalletPerCustomerRef[PalletPerCustomerRef['Cluster'] == 3]['Longitude']\n",
    "Latitude_3 = PalletPerCustomerRef[PalletPerCustomerRef['Cluster'] == 3]['Latitude']\n",
    "plt.scatter(Longitude_3, Latitude_3, s=20, c='orange', label='Cluster 2')\n",
    "\n",
    "# Đặt giới hạn cho trục x và y\n",
    "plt.xlim(CustomerMaster['Longitude'].min() - 3, CustomerMaster['Longitude'].max() + 3)\n",
    "plt.ylim(CustomerMaster['Latitude'].min() - 6, CustomerMaster['Latitude'].max() + 3)\n",
    "\n",
    "# Plot cluster centers\n",
    "plt.scatter(longitude_cluster_1_and_4_center, latitude_cluster_1_and_4_center, s=30, marker='*', color='purple')\n",
    "plt.scatter(longitude_cluster_0_and_2_center, latitude_cluster_0_and_2_center, s=70, marker='*', color='purple')\n",
    "plt.scatter(DC_Longitude, DC_Latitude, s=1340, marker='*', color='purple')\n",
    "plt.scatter(DC_Longitude, DC_Latitude, s = 100, marker = '^', color = 'red')\n",
    "# Đặt tiêu đề và chú thích\n",
    "plt.title('Clusters of Customers')\n",
    "plt.xlabel('Longitude')\n",
    "plt.ylabel('Latitude')\n",
    "plt.legend()\n",
    "# Hiển thị biểu đồ chung\n",
    "plt.show()"
   ]
  },
  {
   "cell_type": "markdown",
   "id": "4580ca76",
   "metadata": {},
   "source": [
    "## Xác định size từng cụm sao cho tổng chi phí (hằng năm và overflow) là thấp nhất"
   ]
  },
  {
   "cell_type": "code",
   "execution_count": 62,
   "id": "a34584b6",
   "metadata": {},
   "outputs": [
    {
     "data": {
      "text/html": [
       "<div>\n",
       "<style scoped>\n",
       "    .dataframe tbody tr th:only-of-type {\n",
       "        vertical-align: middle;\n",
       "    }\n",
       "\n",
       "    .dataframe tbody tr th {\n",
       "        vertical-align: top;\n",
       "    }\n",
       "\n",
       "    .dataframe thead th {\n",
       "        text-align: right;\n",
       "    }\n",
       "</style>\n",
       "<table border=\"1\" class=\"dataframe\">\n",
       "  <thead>\n",
       "    <tr style=\"text-align: right;\">\n",
       "      <th></th>\n",
       "      <th>index</th>\n",
       "      <th>Cluster</th>\n",
       "      <th>SOCreationDate</th>\n",
       "      <th>NumberOfPallet</th>\n",
       "      <th>Week</th>\n",
       "      <th>NumberOfPalletReturned</th>\n",
       "    </tr>\n",
       "  </thead>\n",
       "  <tbody>\n",
       "    <tr>\n",
       "      <th>0</th>\n",
       "      <td>752</td>\n",
       "      <td>3</td>\n",
       "      <td>2022-01-01</td>\n",
       "      <td>152.4</td>\n",
       "      <td>52</td>\n",
       "      <td>76.2</td>\n",
       "    </tr>\n",
       "    <tr>\n",
       "      <th>1</th>\n",
       "      <td>753</td>\n",
       "      <td>3</td>\n",
       "      <td>2022-01-03</td>\n",
       "      <td>73.2</td>\n",
       "      <td>1</td>\n",
       "      <td>36.6</td>\n",
       "    </tr>\n",
       "    <tr>\n",
       "      <th>2</th>\n",
       "      <td>754</td>\n",
       "      <td>3</td>\n",
       "      <td>2022-01-04</td>\n",
       "      <td>605.263833</td>\n",
       "      <td>1</td>\n",
       "      <td>302.631917</td>\n",
       "    </tr>\n",
       "    <tr>\n",
       "      <th>3</th>\n",
       "      <td>755</td>\n",
       "      <td>3</td>\n",
       "      <td>2022-01-05</td>\n",
       "      <td>389.689706</td>\n",
       "      <td>1</td>\n",
       "      <td>194.844853</td>\n",
       "    </tr>\n",
       "    <tr>\n",
       "      <th>4</th>\n",
       "      <td>756</td>\n",
       "      <td>3</td>\n",
       "      <td>2022-01-06</td>\n",
       "      <td>439.279676</td>\n",
       "      <td>1</td>\n",
       "      <td>219.639838</td>\n",
       "    </tr>\n",
       "  </tbody>\n",
       "</table>\n",
       "</div>"
      ],
      "text/plain": [
       "   index  Cluster SOCreationDate NumberOfPallet  Week NumberOfPalletReturned\n",
       "0    752        3     2022-01-01          152.4    52                   76.2\n",
       "1    753        3     2022-01-03           73.2     1                   36.6\n",
       "2    754        3     2022-01-04     605.263833     1             302.631917\n",
       "3    755        3     2022-01-05     389.689706     1             194.844853\n",
       "4    756        3     2022-01-06     439.279676     1             219.639838"
      ]
     },
     "execution_count": 62,
     "metadata": {},
     "output_type": "execute_result"
    }
   ],
   "source": [
    "cluster_again = {}\n",
    "cluster_again[0] = pd.concat([dfCapacityGrouped[dfCapacityGrouped['Cluster'] == 0], dfCapacityGrouped[dfCapacityGrouped['Cluster'] == 2]])\n",
    "cluster_again[1] = pd.concat([dfCapacityGrouped[dfCapacityGrouped['Cluster'] == 1], dfCapacityGrouped[dfCapacityGrouped['Cluster'] == 4]])\n",
    "cluster_again[2] = dfCapacityGrouped[dfCapacityGrouped['Cluster'] == 3]\n",
    "cluster_again[0] = cluster_again[0].reset_index()\n",
    "cluster_again[1] = cluster_again[1].reset_index()\n",
    "cluster_again[2] = cluster_again[2].reset_index()\n",
    "cluster_again[2].head()"
   ]
  },
  {
   "cell_type": "code",
   "execution_count": 61,
   "id": "acce6e12",
   "metadata": {},
   "outputs": [],
   "source": [
    "sizeClusterAgain = []\n",
    "\n",
    "for cluster in range(2):\n",
    "    costList = []\n",
    "    sizeList = list(range(40, 120, 10))\n",
    "    for size in sizeList:\n",
    "        costList.append(totalCost(cluster_again[cluster], size))\n",
    "    sizeClusterAgain.append(sizeList[costList.index(min(costList))])\n",
    "sizeClusterAgain.append(1330)"
   ]
  },
  {
   "cell_type": "code",
   "execution_count": 121,
   "id": "5e79fb97",
   "metadata": {},
   "outputs": [
    {
     "name": "stdout",
     "output_type": "stream",
     "text": [
      "Total cost: \n",
      "Cluster 0: 8762.317979567999\n",
      "Cluster 1: 7000\n",
      "Cluster 2: 142211.41162977455\n",
      "Total: 157973.72960934255\n"
     ]
    }
   ],
   "source": [
    "print(\"Total cost: \")\n",
    "print(\"Cluster 0:\", totalCost(cluster_again[0], 70))\n",
    "print(\"Cluster 1:\", totalCost(cluster_again[1], 70))\n",
    "print(\"Cluster 2:\", totalCost(cluster_again[2], 1340))\n",
    "print(\"Total:\", totalCost(cluster_again[0], 70) + totalCost(cluster_again[1], 70) + totalCost(cluster_again[2], 1340))"
   ]
  },
  {
   "cell_type": "markdown",
   "id": "2448ba1d",
   "metadata": {},
   "source": [
    "Giảm được khoảng 13000$ so với phương án ban đầu"
   ]
  },
  {
   "cell_type": "markdown",
   "id": "5c56a3cb",
   "metadata": {},
   "source": [
    "Lượng GHG gây ra từ số lượng sản phẩm bán được nên các cách phân cụm khác nhau không gây ảnh hưởng đến lượng khí thải nhà kính. \n",
    "\n",
    "--> lượng khí thải nhà kính trong trường hợp này bằng với trường hợp trước"
   ]
  },
  {
   "cell_type": "code",
   "execution_count": 113,
   "id": "11057b7a",
   "metadata": {},
   "outputs": [
    {
     "name": "stdout",
     "output_type": "stream",
     "text": [
      "GHG saved:  1255182.3958716579  (CO2-eq)\n",
      "Total CO2:  4492105.274888339  (CO2-eq)\n",
      "Total CTN recycled:  257802.3239999998  (kg)\n",
      "Total GBOT recycled:  1729189.5215999992  (kg)\n",
      "Total PBOT recycled:  199404.76860000004  (kg)\n"
     ]
    }
   ],
   "source": [
    "print(\"GHG saved: \", CO2 - total_CO2[100], \" (CO2-eq)\")\n",
    "print(\"Total CO2: \", total_CO2[100], \" (CO2-eq)\")\n",
    "print(\"Total CTN recycled: \", dfPackageGrouped.iloc[0, 2], \" (kg)\")\n",
    "print(\"Total GBOT recycled: \", dfPackageGrouped.iloc[1, 2], \" (kg)\")\n",
    "print(\"Total PBOT recycled: \", dfPackageGrouped.iloc[2, 2], \" (kg)\")"
   ]
  },
  {
   "cell_type": "code",
   "execution_count": 118,
   "id": "3625b6e1",
   "metadata": {},
   "outputs": [
    {
     "name": "stdout",
     "output_type": "stream",
     "text": [
      "Features:\n",
      "1. Latitude\n",
      "2. Longitude\n",
      "3. Number of pallet\n",
      "4. Distance to Distribution Center\n"
     ]
    }
   ],
   "source": [
    "print(\"Features:\")\n",
    "print(\"1. Latitude\")\n",
    "print(\"2. Longitude\")\n",
    "print(\"3. Number of pallet\")\n",
    "print('4. Distance to Distribution Center')"
   ]
  },
  {
   "cell_type": "code",
   "execution_count": null,
   "id": "43964a7b",
   "metadata": {},
   "outputs": [],
   "source": []
  }
 ],
 "metadata": {
  "kernelspec": {
   "display_name": "Python 3 (ipykernel)",
   "language": "python",
   "name": "python3"
  },
  "language_info": {
   "codemirror_mode": {
    "name": "ipython",
    "version": 3
   },
   "file_extension": ".py",
   "mimetype": "text/x-python",
   "name": "python",
   "nbconvert_exporter": "python",
   "pygments_lexer": "ipython3",
   "version": "3.9.13"
  }
 },
 "nbformat": 4,
 "nbformat_minor": 5
}
